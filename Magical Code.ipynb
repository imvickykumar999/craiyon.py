{
 "cells": [
  {
   "cell_type": "code",
   "execution_count": 1,
   "metadata": {
    "scrolled": true
   },
   "outputs": [
    {
     "name": "stdout",
     "output_type": "stream",
     "text": [
      "Collecting craiyon.py\n",
      "  Downloading craiyon.py-0.1.0.tar.gz (7.7 kB)\n",
      "  Preparing metadata (setup.py): started\n",
      "  Preparing metadata (setup.py): finished with status 'done'\n",
      "Requirement already satisfied: requests in c:\\users\\vicky\\appdata\\local\\programs\\python\\python39\\lib\\site-packages (from craiyon.py) (2.27.1)\n",
      "Requirement already satisfied: urllib3<1.27,>=1.21.1 in c:\\users\\vicky\\appdata\\local\\programs\\python\\python39\\lib\\site-packages (from requests->craiyon.py) (1.26.2)\n",
      "Requirement already satisfied: idna<4,>=2.5 in c:\\users\\vicky\\appdata\\local\\programs\\python\\python39\\lib\\site-packages (from requests->craiyon.py) (2.8)\n",
      "Requirement already satisfied: certifi>=2017.4.17 in c:\\users\\vicky\\appdata\\local\\programs\\python\\python39\\lib\\site-packages (from requests->craiyon.py) (2020.4.5.1)\n",
      "Requirement already satisfied: charset-normalizer~=2.0.0 in c:\\users\\vicky\\appdata\\local\\programs\\python\\python39\\lib\\site-packages (from requests->craiyon.py) (2.0.10)\n",
      "Building wheels for collected packages: craiyon.py\n",
      "  Building wheel for craiyon.py (setup.py): started\n",
      "  Building wheel for craiyon.py (setup.py): finished with status 'done'\n",
      "  Created wheel for craiyon.py: filename=craiyon.py-0.1.0-py3-none-any.whl size=7978 sha256=e52e99ecb2c0c7d3c0daef9792f3c43f4e6cd07c90248e8241f544b93959f15c\n",
      "  Stored in directory: c:\\users\\vicky\\appdata\\local\\pip\\cache\\wheels\\33\\be\\f7\\5cad14de68d3f9006047bd8502be80b9e6bc0616c09e00be12\n",
      "Successfully built craiyon.py\n",
      "Installing collected packages: craiyon.py\n",
      "Successfully installed craiyon.py-0.1.0\n"
     ]
    },
    {
     "name": "stderr",
     "output_type": "stream",
     "text": [
      "WARNING: There was an error checking the latest version of pip.\n"
     ]
    }
   ],
   "source": [
    "!pip install -U craiyon.py"
   ]
  },
  {
   "cell_type": "code",
   "execution_count": 4,
   "metadata": {},
   "outputs": [],
   "source": [
    "from craiyon import Craiyon\n",
    "\n",
    "generator = Craiyon() # Instantiates the api wrapper\n",
    "result = generator.generate(\"Photorealistic image of shrek eating earth\")\n",
    "result.save_images() # Saves the generated images to 'current working directory/generated', you can also provide a custom path"
   ]
  },
  {
   "cell_type": "code",
   "execution_count": 10,
   "metadata": {},
   "outputs": [],
   "source": [
    "from craiyon import Craiyon\n",
    "from PIL import Image # pip install pillow\n",
    "from io import BytesIO\n",
    "import base64\n",
    "\n",
    "generator = Craiyon() # Instantiates the api wrapper\n",
    "result = generator.generate(\"Professional photo of Obama flashing a flag with his last name\") # Generates 9 images by default and you cannot change that \n",
    "images = result.images # A list containing image data as base64 encoded strings\n",
    "for i in enumerate(images):\n",
    "    image = Image.open(BytesIO(base64.decodebytes(i[1].encode(\"utf-8\"))))\n",
    "    image.save(f'generated/image-{i[0]+1}.png')"
   ]
  },
  {
   "cell_type": "code",
   "execution_count": null,
   "metadata": {},
   "outputs": [],
   "source": []
  }
 ],
 "metadata": {
  "kernelspec": {
   "display_name": "Python 3",
   "language": "python",
   "name": "python3"
  },
  "language_info": {
   "codemirror_mode": {
    "name": "ipython",
    "version": 3
   },
   "file_extension": ".py",
   "mimetype": "text/x-python",
   "name": "python",
   "nbconvert_exporter": "python",
   "pygments_lexer": "ipython3",
   "version": "3.8.3"
  }
 },
 "nbformat": 4,
 "nbformat_minor": 4
}
